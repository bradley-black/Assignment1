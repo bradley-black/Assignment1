{
 "cells": [
  {
   "cell_type": "code",
   "execution_count": 3,
   "id": "ebbdb25d-60f4-4e63-94dc-8dd5e9206283",
   "metadata": {},
   "outputs": [
    {
     "name": "stdout",
     "output_type": "stream",
     "text": [
      "100.75\n"
     ]
    }
   ],
   "source": [
    "#Question1\n",
    "A1 = 5*10+70.75-40/2\n",
    "print(A1)"
   ]
  },
  {
   "cell_type": "code",
   "execution_count": 13,
   "id": "8b2f4ecb-65e9-4ae6-9f7f-73375801959d",
   "metadata": {},
   "outputs": [],
   "source": [
    "#Question2\n",
    "word = \"Coding\"\n",
    "new_word = word[1:-1]"
   ]
  },
  {
   "cell_type": "code",
   "execution_count": 14,
   "id": "c9a0a364-1e37-4bb8-8eb4-ee5df6cd8b2a",
   "metadata": {},
   "outputs": [
    {
     "name": "stdout",
     "output_type": "stream",
     "text": [
      "odin\n"
     ]
    }
   ],
   "source": [
    "if len(word) > 2:\n",
    "    print(new_word)\n",
    "else:\n",
    "    print(\"Please type a new word that is at least 2 characters\")"
   ]
  },
  {
   "cell_type": "code",
   "execution_count": 15,
   "id": "63910376-eb1d-4c8b-b021-c11698d4f53c",
   "metadata": {},
   "outputs": [],
   "source": [
    "#Question3"
   ]
  },
  {
   "cell_type": "code",
   "execution_count": 26,
   "id": "cb1b83aa-44a6-41d6-bf91-251cec233bea",
   "metadata": {},
   "outputs": [],
   "source": [
    "A1 = [5,2,9,0,2,4]\n",
    "A2 = [1,4,5,1]"
   ]
  },
  {
   "cell_type": "code",
   "execution_count": 27,
   "id": "e71180d5-9cfe-4d30-b6dd-1a35ff87f859",
   "metadata": {},
   "outputs": [
    {
     "data": {
      "text/plain": [
       "[2, 5]"
      ]
     },
     "execution_count": 27,
     "metadata": {},
     "output_type": "execute_result"
    }
   ],
   "source": [
    "new_list = [A1[-2],A2[-2]]\n",
    "new_list"
   ]
  },
  {
   "cell_type": "code",
   "execution_count": 29,
   "id": "59eec63f-8df1-474d-bc91-43507ab5c8f1",
   "metadata": {},
   "outputs": [],
   "source": [
    "#Question 4"
   ]
  },
  {
   "cell_type": "code",
   "execution_count": 56,
   "id": "873e84f8-7665-40f6-8dfb-b2cf8302114e",
   "metadata": {},
   "outputs": [],
   "source": [
    "nested_list = [1,2,[3,4,'hello']]"
   ]
  },
  {
   "cell_type": "code",
   "execution_count": 57,
   "id": "39687cd8-7e0d-47bf-a5a9-74b2dd9f2945",
   "metadata": {},
   "outputs": [
    {
     "data": {
      "text/plain": [
       "'hello'"
      ]
     },
     "execution_count": 57,
     "metadata": {},
     "output_type": "execute_result"
    }
   ],
   "source": [
    "nested_list[2].pop()"
   ]
  },
  {
   "cell_type": "code",
   "execution_count": 59,
   "id": "3fe44a00-a6fc-46dc-be0a-437bcf37128a",
   "metadata": {},
   "outputs": [],
   "source": [
    "nested_list[2].append(\"goodbye\")"
   ]
  },
  {
   "cell_type": "code",
   "execution_count": 60,
   "id": "939ae2bd-fbe9-419e-8e2f-aed154932e30",
   "metadata": {},
   "outputs": [
    {
     "name": "stdout",
     "output_type": "stream",
     "text": [
      "[1, 2, [3, 4, 'goodbye']]\n"
     ]
    }
   ],
   "source": [
    "print(nested_list)"
   ]
  },
  {
   "cell_type": "code",
   "execution_count": 62,
   "id": "ef6bdfcc-e9fe-407f-87e9-3c146168f60e",
   "metadata": {},
   "outputs": [],
   "source": [
    "#Question5"
   ]
  },
  {
   "cell_type": "code",
   "execution_count": 65,
   "id": "0fcc067f-ccc7-44c0-8394-25f1cddb5933",
   "metadata": {},
   "outputs": [],
   "source": [
    "my_list = [1, 2, 2, 33, 4, 411, 22, 3, 3, 2]"
   ]
  },
  {
   "cell_type": "code",
   "execution_count": 67,
   "id": "3ad6bb21-352c-48cb-80a7-d5489fd35fa6",
   "metadata": {},
   "outputs": [],
   "source": [
    "my_set = set(my_list)"
   ]
  },
  {
   "cell_type": "code",
   "execution_count": 68,
   "id": "9cf8d01d-12f9-4663-be90-cbf8ccc51560",
   "metadata": {},
   "outputs": [
    {
     "data": {
      "text/plain": [
       "{1, 2, 3, 4, 22, 33, 411}"
      ]
     },
     "execution_count": 68,
     "metadata": {},
     "output_type": "execute_result"
    }
   ],
   "source": [
    "my_set"
   ]
  },
  {
   "cell_type": "code",
   "execution_count": 69,
   "id": "3dd24e51-494b-4749-b9b8-75948edd4d5b",
   "metadata": {},
   "outputs": [],
   "source": [
    "#Question #6"
   ]
  },
  {
   "cell_type": "code",
   "execution_count": 75,
   "id": "cfd5e4e7-f8eb-4fa3-8148-fb410efd8b80",
   "metadata": {},
   "outputs": [
    {
     "name": "stdout",
     "output_type": "stream",
     "text": [
      "12\n"
     ]
    }
   ],
   "source": [
    "with open ('test.txt', mode='w') as my_file:\n",
    "    my_string = \"yshdbsvekldf\"\n",
    "    my_file.write(my_string)\n",
    "    print(len(my_string))"
   ]
  },
  {
   "cell_type": "code",
   "execution_count": 76,
   "id": "4187c612-c1a6-45c0-ab87-742b16235843",
   "metadata": {},
   "outputs": [],
   "source": [
    "#Question7"
   ]
  },
  {
   "cell_type": "code",
   "execution_count": 78,
   "id": "82b45e4f-8fbe-4259-a773-bf2e2fa20795",
   "metadata": {},
   "outputs": [],
   "source": [
    "I_one = [ 1, 2, [ 3, 4 ] ]\n",
    "I_two = [ 1, 2, { 'k1' : 4 }]\n",
    "#Before executing the below code, the answer will be False since 3 ([2][0]) is less than [2]['k1'] which is 4 "
   ]
  },
  {
   "cell_type": "code",
   "execution_count": 79,
   "id": "f1e50fc4-f018-403e-8d23-200b5f5ad8a9",
   "metadata": {},
   "outputs": [
    {
     "data": {
      "text/plain": [
       "False"
      ]
     },
     "execution_count": 79,
     "metadata": {},
     "output_type": "execute_result"
    }
   ],
   "source": [
    "I_one[2][0] >= I_two[2]['k1']"
   ]
  },
  {
   "cell_type": "code",
   "execution_count": 80,
   "id": "ab3e8bdc-e897-4984-9e55-014ebc837928",
   "metadata": {},
   "outputs": [],
   "source": [
    "#Question8"
   ]
  },
  {
   "cell_type": "code",
   "execution_count": 99,
   "id": "1d46ca06-099c-4336-86a5-75dc3f09e4fc",
   "metadata": {},
   "outputs": [
    {
     "data": {
      "text/plain": [
       "'hello'"
      ]
     },
     "execution_count": 99,
     "metadata": {},
     "output_type": "execute_result"
    }
   ],
   "source": [
    "d = { 'k1' : [ { 'nest_key' : [ 'this is deep' , [ 'hello' ] ] } ] }\n",
    "d['k1'][0]['nest_key'][1][0]\n",
    "#the extra [0] was added to remove the [] from the hello"
   ]
  }
 ],
 "metadata": {
  "kernelspec": {
   "display_name": "Python [conda env:base] *",
   "language": "python",
   "name": "conda-base-py"
  },
  "language_info": {
   "codemirror_mode": {
    "name": "ipython",
    "version": 3
   },
   "file_extension": ".py",
   "mimetype": "text/x-python",
   "name": "python",
   "nbconvert_exporter": "python",
   "pygments_lexer": "ipython3",
   "version": "3.13.5"
  }
 },
 "nbformat": 4,
 "nbformat_minor": 5
}
